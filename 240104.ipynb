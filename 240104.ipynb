{
  "nbformat": 4,
  "nbformat_minor": 0,
  "metadata": {
    "colab": {
      "provenance": [],
      "authorship_tag": "ABX9TyOkPgkPvqaVg4SZsUuiJLk7",
      "include_colab_link": true
    },
    "kernelspec": {
      "name": "python3",
      "display_name": "Python 3"
    },
    "language_info": {
      "name": "python"
    }
  },
  "cells": [
    {
      "cell_type": "markdown",
      "metadata": {
        "id": "view-in-github",
        "colab_type": "text"
      },
      "source": [
        "<a href=\"https://colab.research.google.com/github/seonghaiiiii/aipython/blob/main/240104.ipynb\" target=\"_parent\"><img src=\"https://colab.research.google.com/assets/colab-badge.svg\" alt=\"Open In Colab\"/></a>"
      ]
    },
    {
      "cell_type": "code",
      "execution_count": null,
      "metadata": {
        "colab": {
          "base_uri": "https://localhost:8080/"
        },
        "id": "GGq5kgDWBRu4",
        "outputId": "89544c60-4a67-4547-a76c-c6a9ff2ab7e7"
      },
      "outputs": [
        {
          "output_type": "stream",
          "name": "stdout",
          "text": [
            "안녕 1\n",
            "안녕 2\n",
            "안녕 3\n"
          ]
        }
      ],
      "source": [
        "a = 1\n",
        "while  a <= 3 :\n",
        "  print('안녕', a)\n",
        "  a+=1"
      ]
    },
    {
      "cell_type": "code",
      "source": [
        "BASE_SIZE = 10\n",
        "for r in range(BASE_SIZE):\n",
        "  for c in range(BASE_SIZE - r):\n",
        "    print('*', end='')\n",
        "  print()"
      ],
      "metadata": {
        "colab": {
          "base_uri": "https://localhost:8080/"
        },
        "id": "W8zl4-_AG8cz",
        "outputId": "c5f29fa5-16fc-49cc-aa64-6a42f068275c"
      },
      "execution_count": null,
      "outputs": [
        {
          "output_type": "stream",
          "name": "stdout",
          "text": [
            "**********\n",
            "*********\n",
            "********\n",
            "*******\n",
            "******\n",
            "*****\n",
            "****\n",
            "***\n",
            "**\n",
            "*\n"
          ]
        }
      ]
    },
    {
      "cell_type": "code",
      "source": [
        "BASE_SIZE = 10\n",
        "for r in range(BASE_SIZE):\n",
        "  for c in range(r+1):\n",
        "    print('*', end='')\n",
        "  print()\n"
      ],
      "metadata": {
        "colab": {
          "base_uri": "https://localhost:8080/"
        },
        "id": "vZ3iCPjfHIe6",
        "outputId": "4e82ebe8-1980-4a68-d64a-3a06639eece7"
      },
      "execution_count": null,
      "outputs": [
        {
          "output_type": "stream",
          "name": "stdout",
          "text": [
            "*\n",
            "**\n",
            "***\n",
            "****\n",
            "*****\n",
            "******\n",
            "*******\n",
            "********\n",
            "*********\n",
            "**********\n"
          ]
        }
      ]
    },
    {
      "cell_type": "code",
      "source": [
        "for i in range(1,5):\n",
        "  print(i, \"Welcome\")\n",
        "  for j in range(1,4):\n",
        "    print(j, \"Hello\")\n",
        "print(\"Done\")"
      ],
      "metadata": {
        "colab": {
          "base_uri": "https://localhost:8080/"
        },
        "id": "vcq_3_2tIIW-",
        "outputId": "d9eab752-19bd-4835-838e-f459bffd4ca5"
      },
      "execution_count": null,
      "outputs": [
        {
          "output_type": "stream",
          "name": "stdout",
          "text": [
            "1 Welcome\n",
            "1 Hello\n",
            "2 Hello\n",
            "3 Hello\n",
            "2 Welcome\n",
            "1 Hello\n",
            "2 Hello\n",
            "3 Hello\n",
            "3 Welcome\n",
            "1 Hello\n",
            "2 Hello\n",
            "3 Hello\n",
            "4 Welcome\n",
            "1 Hello\n",
            "2 Hello\n",
            "3 Hello\n",
            "Done\n"
          ]
        }
      ]
    },
    {
      "cell_type": "code",
      "source": [
        "a,b,c = map(int, input().split())\n",
        "\n",
        "if (b<a<c) | (c<a<b):\n",
        "  print(a)\n",
        "elif (a<b<c) | (c<b<a):\n",
        "  print(b)\n",
        "else: print(c)"
      ],
      "metadata": {
        "colab": {
          "base_uri": "https://localhost:8080/"
        },
        "id": "l1BHeWJ6Ibqc",
        "outputId": "8cfe4424-1567-40d0-dbe3-b670be173a96"
      },
      "execution_count": null,
      "outputs": [
        {
          "output_type": "stream",
          "name": "stdout",
          "text": [
            "20 30 10\n",
            "20\n"
          ]
        }
      ]
    },
    {
      "cell_type": "code",
      "source": [
        "a,b,c = map(int, input().split())\n",
        "num = [a,b,c]\n",
        "num.sort()\n",
        "print(num[1])"
      ],
      "metadata": {
        "colab": {
          "base_uri": "https://localhost:8080/"
        },
        "id": "WlCTZTndL3Pp",
        "outputId": "0f54ead2-de55-4490-ca6f-1d7f7c59e924"
      },
      "execution_count": null,
      "outputs": [
        {
          "output_type": "stream",
          "name": "stdout",
          "text": [
            "20 30 30 30854 5\n",
            "30\n"
          ]
        }
      ]
    },
    {
      "cell_type": "code",
      "source": [
        "nums = [1,2,3]\n",
        "nums[1] = 0\n",
        "print(nums)"
      ],
      "metadata": {
        "colab": {
          "base_uri": "https://localhost:8080/"
        },
        "id": "H_rbTHNQP24t",
        "outputId": "b920a191-70a9-4267-804b-527672e61320"
      },
      "execution_count": null,
      "outputs": [
        {
          "output_type": "stream",
          "name": "stdout",
          "text": [
            "[1, 0, 3]\n"
          ]
        }
      ]
    },
    {
      "cell_type": "code",
      "source": [
        "#tuple에서 오류\n",
        "# nums = (1,2,3)\n",
        "# nums[1] = 0"
      ],
      "metadata": {
        "colab": {
          "base_uri": "https://localhost:8080/",
          "height": 203
        },
        "id": "fTzuF0P6P-VA",
        "outputId": "91176f3d-f413-4d7e-f4c4-30ab3de40787"
      },
      "execution_count": null,
      "outputs": [
        {
          "output_type": "error",
          "ename": "TypeError",
          "evalue": "ignored",
          "traceback": [
            "\u001b[0;31m---------------------------------------------------------------------------\u001b[0m",
            "\u001b[0;31mTypeError\u001b[0m                                 Traceback (most recent call last)",
            "\u001b[0;32m<ipython-input-47-0a21efadc0e8>\u001b[0m in \u001b[0;36m<cell line: 2>\u001b[0;34m()\u001b[0m\n\u001b[1;32m      1\u001b[0m \u001b[0mnums\u001b[0m \u001b[0;34m=\u001b[0m \u001b[0;34m(\u001b[0m\u001b[0;36m1\u001b[0m\u001b[0;34m,\u001b[0m\u001b[0;36m2\u001b[0m\u001b[0;34m,\u001b[0m\u001b[0;36m3\u001b[0m\u001b[0;34m)\u001b[0m\u001b[0;34m\u001b[0m\u001b[0;34m\u001b[0m\u001b[0m\n\u001b[0;32m----> 2\u001b[0;31m \u001b[0mnums\u001b[0m\u001b[0;34m[\u001b[0m\u001b[0;36m1\u001b[0m\u001b[0;34m]\u001b[0m \u001b[0;34m=\u001b[0m \u001b[0;36m0\u001b[0m\u001b[0;34m\u001b[0m\u001b[0;34m\u001b[0m\u001b[0m\n\u001b[0m",
            "\u001b[0;31mTypeError\u001b[0m: 'tuple' object does not support item assignment"
          ]
        }
      ]
    },
    {
      "cell_type": "code",
      "source": [
        "a=[10,20,30]\n",
        "print(\"최솟값:\", min(a))\n",
        "print(\"최댓값:\", max(a))\n",
        "print(\"합 계:\", sum(a))"
      ],
      "metadata": {
        "colab": {
          "base_uri": "https://localhost:8080/"
        },
        "id": "QbCRksWtQ4Pl",
        "outputId": "ba1d179b-ab49-40d6-ae3f-7669c21c18a5"
      },
      "execution_count": 54,
      "outputs": [
        {
          "output_type": "stream",
          "name": "stdout",
          "text": [
            "최솟값: 10\n",
            "최댓값: 30\n",
            "합 계: 60\n"
          ]
        }
      ]
    },
    {
      "cell_type": "code",
      "source": [
        "a = ['10','20','30']\n",
        "a=list(map(int,a))\n",
        "print(sum(a))\n",
        "print(a)"
      ],
      "metadata": {
        "id": "-7i9V10CVKFA",
        "colab": {
          "base_uri": "https://localhost:8080/"
        },
        "outputId": "970371b4-05db-4eb3-f1f6-95c910c15626"
      },
      "execution_count": 56,
      "outputs": [
        {
          "output_type": "stream",
          "name": "stdout",
          "text": [
            "60\n",
            "[10, 20, 30]\n"
          ]
        }
      ]
    },
    {
      "cell_type": "code",
      "source": [
        "score= [[29, 28, 27, 30],\n",
        "[30, 20, 27, 29],\n",
        "[23, 25, 29, 30]]\n",
        "print(score[0])\n",
        "print(score[1][1])"
      ],
      "metadata": {
        "colab": {
          "base_uri": "https://localhost:8080/"
        },
        "id": "PXAiet7tYpRT",
        "outputId": "fd953173-669b-4c15-c8d5-7881a8ce8d56"
      },
      "execution_count": 58,
      "outputs": [
        {
          "output_type": "stream",
          "name": "stdout",
          "text": [
            "[29, 28, 27, 30]\n",
            "20\n"
          ]
        }
      ]
    },
    {
      "cell_type": "code",
      "source": [
        "score= [[29, 28, 27, 30],\n",
        "[30, 20, 27, 29],\n",
        "[23, 25, 29, 30]]\n",
        "for sc in score:\n",
        "  print(sc)\n"
      ],
      "metadata": {
        "colab": {
          "base_uri": "https://localhost:8080/"
        },
        "id": "MT2_O71KYyw6",
        "outputId": "d3d45857-8e95-4d43-a03b-717da25c9076"
      },
      "execution_count": 60,
      "outputs": [
        {
          "output_type": "stream",
          "name": "stdout",
          "text": [
            "[29, 28, 27, 30]\n",
            "[30, 20, 27, 29]\n",
            "[23, 25, 29, 30]\n"
          ]
        }
      ]
    },
    {
      "cell_type": "code",
      "source": [
        "score= [[29, 28, 27, 30],\n",
        "  [30, 20, 27, 29],\n",
        "  [23, 25, 29, 30]]\n",
        "for r in range(len(score)):\n",
        "  for c in range(len(score[r])):\n",
        "    print(score[r][c], end=\" \")\n",
        "  print()"
      ],
      "metadata": {
        "colab": {
          "base_uri": "https://localhost:8080/"
        },
        "id": "1AHN1b7fZz_F",
        "outputId": "9287ad08-f633-4fd5-cd9a-94e64f5e019e"
      },
      "execution_count": 71,
      "outputs": [
        {
          "output_type": "stream",
          "name": "stdout",
          "text": [
            "29 28 27 30 \n",
            "30 20 27 29 \n",
            "23 25 29 30 \n"
          ]
        }
      ]
    },
    {
      "cell_type": "code",
      "source": [
        "score= [[29, 28, 27, 30],\n",
        "[30, 20, 27, 29],\n",
        "[23, 25, 29, 30]]\n",
        "for sc in score:\n",
        "  for c in sc:\n",
        "    print(c, end=\" \")\n",
        "  print()"
      ],
      "metadata": {
        "colab": {
          "base_uri": "https://localhost:8080/"
        },
        "id": "qg_xhU5vY-Ne",
        "outputId": "5af064a6-a7a5-4258-c16e-e81cdc950a56"
      },
      "execution_count": 62,
      "outputs": [
        {
          "output_type": "stream",
          "name": "stdout",
          "text": [
            "29 28 27 30 \n",
            "30 20 27 29 \n",
            "23 25 29 30 \n"
          ]
        }
      ]
    },
    {
      "cell_type": "code",
      "source": [
        "score = []\n",
        "while True:\n",
        "  a = input(\"학생의 점수를 입력하세요.\")\n",
        "  if(a.isdigit()):\n",
        "    score.append(a)\n",
        "  else: break\n",
        "score = list(map(int,score))\n",
        "print(\"합계 : \",sum(score))\n",
        "print(\"인원수 : \",len(score))\n",
        "print(\"평균 : \",sum(score)/len(score))\n",
        ""
      ],
      "metadata": {
        "colab": {
          "base_uri": "https://localhost:8080/"
        },
        "id": "U_tkOcYlcW53",
        "outputId": "f1d86395-8351-4b8b-a7b1-79786e7979fd"
      },
      "execution_count": 79,
      "outputs": [
        {
          "output_type": "stream",
          "name": "stdout",
          "text": [
            "학생의 점수를 입력하세요.90\n",
            "학생의 점수를 입력하세요.70\n",
            "학생의 점수를 입력하세요.30\n",
            "학생의 점수를 입력하세요.x\n",
            "합계 :  190\n",
            "인원수 :  3\n",
            "평균 :  63.333333333333336\n"
          ]
        }
      ]
    }
  ]
}