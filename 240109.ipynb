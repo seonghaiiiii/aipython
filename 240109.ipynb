{
  "nbformat": 4,
  "nbformat_minor": 0,
  "metadata": {
    "colab": {
      "provenance": [],
      "authorship_tag": "ABX9TyPIgqqCQf1BEqGNPL9M/+m6",
      "include_colab_link": true
    },
    "kernelspec": {
      "name": "python3",
      "display_name": "Python 3"
    },
    "language_info": {
      "name": "python"
    }
  },
  "cells": [
    {
      "cell_type": "markdown",
      "metadata": {
        "id": "view-in-github",
        "colab_type": "text"
      },
      "source": [
        "<a href=\"https://colab.research.google.com/github/seonghaiiiii/aipython/blob/main/240109.ipynb\" target=\"_parent\"><img src=\"https://colab.research.google.com/assets/colab-badge.svg\" alt=\"Open In Colab\"/></a>"
      ]
    },
    {
      "cell_type": "code",
      "source": [
        "import numpy as np\n",
        "# 1차원 배열\n",
        "arr1d = np.array([1, 2, 3, 4, 5])\n",
        "print(arr1d)\n",
        "# 2차원 배열\n",
        "arr2d = np.array([[1, 2, 3], [4, 5, 6]])\n",
        "print(arr2d)\n",
        "# 배열의 형태, 차원, 데이터 타입 확인\n",
        "print(\"Shape:\", arr2d.shape)\n",
        "print(\"Dimensions:\", arr2d.ndim)\n",
        "print(\"Data Type:\", arr2d.dtype)"
      ],
      "metadata": {
        "colab": {
          "base_uri": "https://localhost:8080/"
        },
        "id": "pyN7VedD_9uS",
        "outputId": "79d2acc3-9958-4410-d54e-71dd1a750673"
      },
      "execution_count": 9,
      "outputs": [
        {
          "output_type": "stream",
          "name": "stdout",
          "text": [
            "[1 2 3 4 5]\n",
            "[[1 2 3]\n",
            " [4 5 6]]\n",
            "Shape: (2, 3)\n",
            "Dimensions: 2\n",
            "Data Type: int64\n"
          ]
        }
      ]
    },
    {
      "cell_type": "code",
      "source": [
        "# 리스트와 array 타입 확인하기\n",
        "import numpy as np\n",
        "lst =[1,2,3]\n",
        "arr = np.array(lst)\n",
        "print(type(lst), lst)\n",
        "print(type(arr), arr)"
      ],
      "metadata": {
        "colab": {
          "base_uri": "https://localhost:8080/"
        },
        "id": "r2ANRbkaH1ai",
        "outputId": "258ae6cf-1ac9-446d-c05d-2bddd41d4233"
      },
      "execution_count": 11,
      "outputs": [
        {
          "output_type": "stream",
          "name": "stdout",
          "text": [
            "<class 'list'> [1, 2, 3]\n",
            "<class 'numpy.ndarray'> [1 2 3]\n"
          ]
        }
      ]
    },
    {
      "cell_type": "code",
      "source": [
        "import numpy as np\n",
        "# 0부터 9까지\n",
        "arr = np.arange(10)\n",
        "print(arr)\n",
        "# 2부터 19까지, 간격은 2\n",
        "arr = np.arange(2, 20, 2)\n",
        "print(arr)\n",
        "\n",
        "print(type(arr))"
      ],
      "metadata": {
        "colab": {
          "base_uri": "https://localhost:8080/"
        },
        "id": "HUCxqhzFH8bK",
        "outputId": "eb7d11a9-381a-4fe0-e6a7-991e5762ed42"
      },
      "execution_count": 14,
      "outputs": [
        {
          "output_type": "stream",
          "name": "stdout",
          "text": [
            "[0 1 2 3 4 5 6 7 8 9]\n",
            "[ 2  4  6  8 10 12 14 16 18]\n",
            "<class 'numpy.ndarray'>\n"
          ]
        }
      ]
    },
    {
      "cell_type": "code",
      "source": [
        "import numpy as np\n",
        "# 1차원 배열\n",
        "zeros_1d = np.zeros(5)\n",
        "print(zeros_1d)\n",
        "# 2차원 배열\n",
        "zeros_2d = np.zeros((3, 4))\n",
        "print(zeros_2d)"
      ],
      "metadata": {
        "colab": {
          "base_uri": "https://localhost:8080/"
        },
        "id": "6yIIu9GcIZEU",
        "outputId": "bd51a5ea-98f0-44c4-c086-65ed99ecff9d"
      },
      "execution_count": 15,
      "outputs": [
        {
          "output_type": "stream",
          "name": "stdout",
          "text": [
            "[0. 0. 0. 0. 0.]\n",
            "[[0. 0. 0. 0.]\n",
            " [0. 0. 0. 0.]\n",
            " [0. 0. 0. 0.]]\n"
          ]
        }
      ]
    },
    {
      "cell_type": "code",
      "source": [
        "import numpy as np\n",
        "# 1차원 배열\n",
        "ones_1d = np.ones(5)\n",
        "print(ones_1d)\n",
        "# 2차원 배열\n",
        "ones_2d = np.ones((3, 4))\n",
        "print(ones_2d)\n",
        "print(type(ones_1d))"
      ],
      "metadata": {
        "colab": {
          "base_uri": "https://localhost:8080/"
        },
        "id": "OA6ABZiOIbyi",
        "outputId": "d97cf8c5-f05f-4829-83bc-6165d8f4f8fd"
      },
      "execution_count": 18,
      "outputs": [
        {
          "output_type": "stream",
          "name": "stdout",
          "text": [
            "[1. 1. 1. 1. 1.]\n",
            "[[1. 1. 1. 1.]\n",
            " [1. 1. 1. 1.]\n",
            " [1. 1. 1. 1.]]\n",
            "<class 'numpy.ndarray'>\n"
          ]
        }
      ]
    },
    {
      "cell_type": "code",
      "source": [
        "import numpy as np\n",
        "# 1차원 배열\n",
        "arr_1d = np.random.rand(5)\n",
        "print(arr_1d)\n",
        "# 2차원 배열\n",
        "arr_2d = np.random.rand(2, 3)\n",
        "print(arr_2d)"
      ],
      "metadata": {
        "colab": {
          "base_uri": "https://localhost:8080/"
        },
        "id": "VHHG8zvTIn7v",
        "outputId": "56e5e1e9-76aa-4c02-ad09-a4214ba98a22"
      },
      "execution_count": 21,
      "outputs": [
        {
          "output_type": "stream",
          "name": "stdout",
          "text": [
            "[0.33603534 0.24878265 0.4922707  0.42979957 0.63698534]\n",
            "[[0.03758236 0.97538095 0.47345758]\n",
            " [0.68301549 0.23644314 0.21295798]]\n"
          ]
        }
      ]
    },
    {
      "cell_type": "code",
      "source": [
        "import numpy as np\n",
        "# 0부터 1까지 5개의 값\n",
        "arr = np.linspace(0, 1, 5)\n",
        "print(arr)\n",
        "print(type(arr))"
      ],
      "metadata": {
        "colab": {
          "base_uri": "https://localhost:8080/"
        },
        "id": "85eI8a4WI08t",
        "outputId": "0d6d9d45-bf80-4ca8-ee9b-7479d22bf2c8"
      },
      "execution_count": 27,
      "outputs": [
        {
          "output_type": "stream",
          "name": "stdout",
          "text": [
            "[0.   0.25 0.5  0.75 1.  ]\n",
            "<class 'numpy.ndarray'>\n"
          ]
        }
      ]
    },
    {
      "cell_type": "code",
      "source": [
        "import numpy as np\n",
        "arr=np.array([[1,2,3],[4,5,6]])\n",
        "print(arr)\n",
        "print(\"합:\",np.sum(arr))\n",
        "print(\"행의 원소 합: \",np.sum(arr, axis=0))\n",
        "print(\"열의 원소 합: \",np.sum(arr, axis=1))\n",
        "print(\"평균:\",np.mean(arr))\n",
        "print(\"행의 원소 평균: \",np.mean(arr, axis=0))\n",
        "print(\"열의 원소 평균: \",np.mean(arr, axis=1))\n",
        "print(\"최대:\",np.max(arr))\n",
        "print(\"최소:\",np.min(arr))\n",
        "print(\"행의 원소 최대값: \",np.max(arr, axis=0))\n",
        "print(\"행의 원소 최소값: \",np.min(arr, axis=0))\n",
        "print(\"열의 원소 최대값: \",np.max(arr, axis=1))\n",
        "print(\"열의 원소 최소값: \",np.min(arr, axis=1))\n",
        "print(np.argmax(arr))\n",
        "print(np.argmin(arr))\n",
        "print(\"분산:\",np.var(arr))\n",
        "print(\"표준편차:\",np.std(arr))\n"
      ],
      "metadata": {
        "colab": {
          "base_uri": "https://localhost:8080/"
        },
        "id": "alK6IcxwJKSb",
        "outputId": "6707fdba-723f-4954-d318-fea54a23abf9"
      },
      "execution_count": 30,
      "outputs": [
        {
          "output_type": "stream",
          "name": "stdout",
          "text": [
            "[[1 2 3]\n",
            " [4 5 6]]\n",
            "합: 21\n",
            "행의 원소 합:  [5 7 9]\n",
            "열의 원소 합:  [ 6 15]\n",
            "평균: 3.5\n",
            "행의 원소 평균:  [2.5 3.5 4.5]\n",
            "열의 원소 평균:  [2. 5.]\n",
            "최대: 6\n",
            "최소: 1\n",
            "행의 원소 최대값:  [4 5 6]\n",
            "행의 원소 최소값:  [1 2 3]\n",
            "열의 원소 최대값:  [3 6]\n",
            "열의 원소 최소값:  [1 4]\n",
            "5\n",
            "0\n",
            "분산: 2.9166666666666665\n",
            "표준편차: 1.707825127659933\n"
          ]
        }
      ]
    },
    {
      "cell_type": "code",
      "source": [
        "arr1 = np.arange(1,10,2)\n",
        "print(arr1)\n",
        "print()\n",
        "arr2 = np.ones((3,4))\n",
        "print(arr2)\n",
        "print()\n",
        "arr3 = np.linspace(0,1,10)\n",
        "print(arr3)"
      ],
      "metadata": {
        "colab": {
          "base_uri": "https://localhost:8080/"
        },
        "id": "ravxl8HfJosj",
        "outputId": "2b07250e-9e83-4ee7-df05-8f8c6efaefd4"
      },
      "execution_count": 41,
      "outputs": [
        {
          "output_type": "stream",
          "name": "stdout",
          "text": [
            "[1 3 5 7 9]\n",
            "\n",
            "[[1. 1. 1. 1.]\n",
            " [1. 1. 1. 1.]\n",
            " [1. 1. 1. 1.]]\n",
            "\n",
            "[0.         0.11111111 0.22222222 0.33333333 0.44444444 0.55555556\n",
            " 0.66666667 0.77777778 0.88888889 1.        ]\n"
          ]
        }
      ]
    },
    {
      "cell_type": "code",
      "source": [
        "arr1 = np.ones([3,4])\n",
        "print(arr1)\n",
        "print('size :', arr1.size)\n",
        "print('dtype :', arr1.dtype)\n",
        "print('shape :', arr1.shape)\n",
        "print('ndim :',arr1.ndim)"
      ],
      "metadata": {
        "colab": {
          "base_uri": "https://localhost:8080/"
        },
        "id": "sB4ZEk9iLDXL",
        "outputId": "ff1a51a9-ab48-4b93-ce45-e2b1dca641b0"
      },
      "execution_count": 42,
      "outputs": [
        {
          "output_type": "stream",
          "name": "stdout",
          "text": [
            "[[1. 1. 1. 1.]\n",
            " [1. 1. 1. 1.]\n",
            " [1. 1. 1. 1.]]\n",
            "size : 12\n",
            "dtype : float64\n",
            "shape : (3, 4)\n",
            "ndim : 2\n"
          ]
        }
      ]
    },
    {
      "cell_type": "code",
      "source": [
        "arr1 = np.array([[1,2,3],\n",
        "[4,5,6],\n",
        "[7,8,9]])\n",
        "print(arr1[0])\n",
        "print(arr1[0,2])\n",
        "print(arr1[1:])\n",
        "print(arr1[arr1 > 5])"
      ],
      "metadata": {
        "colab": {
          "base_uri": "https://localhost:8080/"
        },
        "id": "70_3yuWDLWK6",
        "outputId": "af3f6662-e80e-4144-b58c-ac9f64451447"
      },
      "execution_count": 44,
      "outputs": [
        {
          "output_type": "stream",
          "name": "stdout",
          "text": [
            "[1 2 3]\n",
            "3\n",
            "[[4 5 6]\n",
            " [7 8 9]]\n",
            "[6 7 8 9]\n"
          ]
        }
      ]
    },
    {
      "cell_type": "code",
      "source": [
        "a = np.arange(1,26).reshape(5,5)\n",
        "print(a)\n",
        "print()\n",
        "# a 모양을 출력해보자\n",
        "print(a.shape)\n",
        "print()\n",
        "# 19 값을 추출해보자\n",
        "print(a[3,3])\n",
        "print()\n",
        "# [[1,2],[6,7]] 값을 추출해보자\n",
        "print(a[:2,:2])\n",
        "print()\n",
        "# [[19,20],[24,25]] 값을 추출해보자\n",
        "print(a[3:5,3:5])\n",
        "print()\n",
        "# 0축(모든열)의 첫번째 행과 두번째 행을 추출해보자\n",
        "print(a[0:2])\n",
        "print()\n",
        "# 1축(모든행)의 마지막 열과 마지막 직전 열을 추출해보자\n",
        "#print(a[0:5,3:5])\n",
        "print(a[:,-2:])"
      ],
      "metadata": {
        "colab": {
          "base_uri": "https://localhost:8080/"
        },
        "id": "kADzFQeGLgWR",
        "outputId": "fc2ca05d-42b5-4d37-8973-32c8efba61fb"
      },
      "execution_count": 71,
      "outputs": [
        {
          "output_type": "stream",
          "name": "stdout",
          "text": [
            "[[ 1  2  3  4  5]\n",
            " [ 6  7  8  9 10]\n",
            " [11 12 13 14 15]\n",
            " [16 17 18 19 20]\n",
            " [21 22 23 24 25]]\n",
            "\n",
            "(5, 5)\n",
            "\n",
            "19\n",
            "\n",
            "[[1 2]\n",
            " [6 7]]\n",
            "\n",
            "[[19 20]\n",
            " [24 25]]\n",
            "\n",
            "[[ 1  2  3  4  5]\n",
            " [ 6  7  8  9 10]]\n",
            "\n",
            "[[ 4  5]\n",
            " [ 9 10]\n",
            " [14 15]\n",
            " [19 20]\n",
            " [24 25]]\n"
          ]
        }
      ]
    },
    {
      "cell_type": "code",
      "source": [
        "arr=np.array([[1,2,3],[4,5,6]])\n",
        "arr_T=arr.transpose()\n",
        "arr_F=arr.flatten()\n",
        "arr_R=arr_F.reshape(3,2)\n",
        "print(arr)\n",
        "print(arr_T)\n",
        "print(arr_F)\n",
        "print(arr_R)"
      ],
      "metadata": {
        "colab": {
          "base_uri": "https://localhost:8080/"
        },
        "id": "NPPxuG86PJ_r",
        "outputId": "ecb6d798-6b79-4299-d7d0-86b03cf79f46"
      },
      "execution_count": 72,
      "outputs": [
        {
          "output_type": "stream",
          "name": "stdout",
          "text": [
            "[[1 2 3]\n",
            " [4 5 6]]\n",
            "[[1 4]\n",
            " [2 5]\n",
            " [3 6]]\n",
            "[1 2 3 4 5 6]\n",
            "[[1 2]\n",
            " [3 4]\n",
            " [5 6]]\n"
          ]
        }
      ]
    },
    {
      "cell_type": "code",
      "source": [
        "a = np.arange(1,37).reshape(3,3,4)\n",
        "print(a)\n",
        "print(a.shape)\n",
        "print(a.size)\n",
        "print(a.reshape(3,4,3))\n",
        "print(a.flatten())"
      ],
      "metadata": {
        "colab": {
          "base_uri": "https://localhost:8080/"
        },
        "id": "oPrN5yS9PaVr",
        "outputId": "02ce375b-d544-4c95-d3c9-6f061978ebb7"
      },
      "execution_count": 80,
      "outputs": [
        {
          "output_type": "stream",
          "name": "stdout",
          "text": [
            "[[[ 1  2  3  4]\n",
            "  [ 5  6  7  8]\n",
            "  [ 9 10 11 12]]\n",
            "\n",
            " [[13 14 15 16]\n",
            "  [17 18 19 20]\n",
            "  [21 22 23 24]]\n",
            "\n",
            " [[25 26 27 28]\n",
            "  [29 30 31 32]\n",
            "  [33 34 35 36]]]\n",
            "(3, 3, 4)\n",
            "36\n",
            "[[[ 1  2  3]\n",
            "  [ 4  5  6]\n",
            "  [ 7  8  9]\n",
            "  [10 11 12]]\n",
            "\n",
            " [[13 14 15]\n",
            "  [16 17 18]\n",
            "  [19 20 21]\n",
            "  [22 23 24]]\n",
            "\n",
            " [[25 26 27]\n",
            "  [28 29 30]\n",
            "  [31 32 33]\n",
            "  [34 35 36]]]\n",
            "[ 1  2  3  4  5  6  7  8  9 10 11 12 13 14 15 16 17 18 19 20 21 22 23 24\n",
            " 25 26 27 28 29 30 31 32 33 34 35 36]\n"
          ]
        }
      ]
    }
  ]
}