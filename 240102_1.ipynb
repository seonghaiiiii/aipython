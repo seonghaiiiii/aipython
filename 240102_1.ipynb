{
  "nbformat": 4,
  "nbformat_minor": 0,
  "metadata": {
    "colab": {
      "provenance": [],
      "authorship_tag": "ABX9TyPs1eFMrt5EtfKGSAPHfb4+",
      "include_colab_link": true
    },
    "kernelspec": {
      "name": "python3",
      "display_name": "Python 3"
    },
    "language_info": {
      "name": "python"
    }
  },
  "cells": [
    {
      "cell_type": "markdown",
      "metadata": {
        "id": "view-in-github",
        "colab_type": "text"
      },
      "source": [
        "<a href=\"https://colab.research.google.com/github/seonghaiiiii/aipython/blob/main/240102_1.ipynb\" target=\"_parent\"><img src=\"https://colab.research.google.com/assets/colab-badge.svg\" alt=\"Open In Colab\"/></a>"
      ]
    },
    {
      "cell_type": "code",
      "source": [
        "number = 10\n",
        "\n",
        "number = 20\n",
        "\n",
        "result = number * 2\n",
        "\n",
        "print(result)"
      ],
      "metadata": {
        "colab": {
          "base_uri": "https://localhost:8080/"
        },
        "id": "m5DXnVkF2exX",
        "outputId": "5883052c-3793-4069-ec41-630135fabf7f"
      },
      "execution_count": null,
      "outputs": [
        {
          "output_type": "stream",
          "name": "stdout",
          "text": [
            "40\n"
          ]
        }
      ]
    },
    {
      "cell_type": "code",
      "execution_count": null,
      "metadata": {
        "colab": {
          "base_uri": "https://localhost:8080/"
        },
        "id": "jD0gsAw52Nn-",
        "outputId": "eca7067c-81e0-4e98-ff4f-0b74c4a1cf6b"
      },
      "outputs": [
        {
          "output_type": "stream",
          "name": "stdout",
          "text": [
            "당신의 나이는?2546\n",
            "2546 살 이군요.\n",
            "내년엔 2547 살이 되네요\n",
            "<class 'int'>\n"
          ]
        }
      ],
      "source": [
        "a=int(input(\"당신의 나이는?\"))\n",
        "print(a,\"살 이군요.\")\n",
        "print(\"내년엔\",a+1,\"살이 되네요\")\n",
        "print(type(a))"
      ]
    },
    {
      "cell_type": "code",
      "source": [
        "a=int(input(\"당신의 나이는?\"))\n",
        "msg = str(a) + '살 이군요.'\n",
        "print(msg)\n",
        "print(\"내년엔\",a+1,\"살이 되네요\")\n",
        "print(type(a))"
      ],
      "metadata": {
        "colab": {
          "base_uri": "https://localhost:8080/"
        },
        "id": "iP2XOMIb3HaQ",
        "outputId": "be597fc7-8663-4090-d336-58ea8c8b9c34"
      },
      "execution_count": null,
      "outputs": [
        {
          "output_type": "stream",
          "name": "stdout",
          "text": [
            "당신의 나이는?24\n",
            "24살 이군요.\n",
            "내년엔 25 살이 되네요\n",
            "<class 'int'>\n"
          ]
        }
      ]
    },
    {
      "cell_type": "code",
      "source": [
        "a = \"파이썬\"\n",
        "print(a,\"아 반가워\")\n",
        "\n",
        "msg = a+\"아 반가워\"\n",
        "print(msg)\n",
        "\n",
        "b=20\n",
        "print(\"%s아 반가워~ %d살 이구나\"%(a,b))"
      ],
      "metadata": {
        "colab": {
          "base_uri": "https://localhost:8080/"
        },
        "id": "6JEQKYIb5Rn-",
        "outputId": "630cf239-c449-488c-a337-f32fb9405a21"
      },
      "execution_count": null,
      "outputs": [
        {
          "output_type": "stream",
          "name": "stdout",
          "text": [
            "파이썬 아 반가워\n",
            "파이썬아 반가워\n",
            "파이썬아 반가워~ 20살 이구나\n"
          ]
        }
      ]
    },
    {
      "cell_type": "code",
      "source": [
        "a=24; b=21; c=(a+b)/2\n",
        "print(c)\n",
        "print(\"%d\"%c)\n",
        "print(\"%4d\"%c)\n",
        "print(\"%f\"%c)\n",
        "print(\"%3.1f\"%c)\n",
        "print(\"%50.7f\"%c)"
      ],
      "metadata": {
        "colab": {
          "base_uri": "https://localhost:8080/"
        },
        "id": "cJ_ZxWEy6V-R",
        "outputId": "0c2fce52-6ae6-4463-8fc8-f4d819158661"
      },
      "execution_count": null,
      "outputs": [
        {
          "output_type": "stream",
          "name": "stdout",
          "text": [
            "22.5\n",
            "22\n",
            "  22\n",
            "22.500000\n",
            "22.5\n",
            "                                        22.5000000\n"
          ]
        }
      ]
    },
    {
      "cell_type": "code",
      "source": [
        "print(\"오늘은 {}월 {}일 입니다.\".format(6,26))\n",
        "print(\"오늘은 {:d}월 {:5.2f}일 입니다.\".format(6,26))\n",
        "print(\"\\n\")\n",
        "a=['파이썬','머신러닝','딥러닝']\n",
        "print('{} {} {}'.format(a[0],a[1],a[2]))\n",
        "print('{0} {1} {2}'.format(*a))"
      ],
      "metadata": {
        "colab": {
          "base_uri": "https://localhost:8080/"
        },
        "id": "OsgYYBtG8M0h",
        "outputId": "bd3ef59d-12f4-4e0b-c7fa-7a11911d2208"
      },
      "execution_count": null,
      "outputs": [
        {
          "output_type": "stream",
          "name": "stdout",
          "text": [
            "오늘은 6월 26일 입니다.\n",
            "오늘은 6월 26.00일 입니다.\n",
            "\n",
            "\n",
            "파이썬 머신러닝 딥러닝\n",
            "파이썬 머신러닝 딥러닝\n"
          ]
        }
      ]
    },
    {
      "cell_type": "code",
      "source": [
        "name = \"홍길동\"\n",
        "age = 20.5\n",
        "print(\"이름은 {:>10s}이고 나이는 {:.2f}입니다.\".format(name,age))"
      ],
      "metadata": {
        "colab": {
          "base_uri": "https://localhost:8080/"
        },
        "id": "8MDsPaXT9DE5",
        "outputId": "be527a9c-4498-43c1-b07a-0e9a379aa106"
      },
      "execution_count": null,
      "outputs": [
        {
          "output_type": "stream",
          "name": "stdout",
          "text": [
            "이름은        홍길동이고 나이는 20.50입니다.\n"
          ]
        }
      ]
    }
  ]
}