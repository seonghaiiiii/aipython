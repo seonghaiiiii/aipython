{
  "nbformat": 4,
  "nbformat_minor": 0,
  "metadata": {
    "colab": {
      "provenance": [],
      "authorship_tag": "ABX9TyPoUMeUfQvX0Z5VIRugsk/a",
      "include_colab_link": true
    },
    "kernelspec": {
      "name": "python3",
      "display_name": "Python 3"
    },
    "language_info": {
      "name": "python"
    }
  },
  "cells": [
    {
      "cell_type": "markdown",
      "metadata": {
        "id": "view-in-github",
        "colab_type": "text"
      },
      "source": [
        "<a href=\"https://colab.research.google.com/github/seonghaiiiii/aipython/blob/main/240105.ipynb\" target=\"_parent\"><img src=\"https://colab.research.google.com/assets/colab-badge.svg\" alt=\"Open In Colab\"/></a>"
      ]
    },
    {
      "cell_type": "code",
      "execution_count": 4,
      "metadata": {
        "colab": {
          "base_uri": "https://localhost:8080/"
        },
        "id": "SBOpZojAOVIo",
        "outputId": "9e03cad7-df9a-45c8-d60d-e916aaedbe09"
      },
      "outputs": [
        {
          "output_type": "stream",
          "name": "stdout",
          "text": [
            "['John,30,Engineer', 'Alice,25,Designer', 'Bob,22,Artist']\n",
            "['John', '30', 'Engineer']\n",
            "Name: John Age: 30 Occupation: Engineer\n",
            "['Alice', '25', 'Designer']\n",
            "Name: Alice Age: 25 Occupation: Designer\n",
            "['Bob', '22', 'Artist']\n",
            "Name: Bob Age: 22 Occupation: Artist\n"
          ]
        }
      ],
      "source": [
        "data = \"John,30,Engineer\\nAlice,25,Designer\\nBob,22,Artist\"\n",
        "lines = data.split(\"\\n\")\n",
        "print(lines)\n",
        "\n",
        "for line in lines:\n",
        "  fields = line.split(\",\")\n",
        "  print(fields)\n",
        "  print(\"Name:\", fields[0], \"Age:\", fields[1], \"Occupation:\", fields[2])"
      ]
    },
    {
      "cell_type": "code",
      "source": [
        "words = ['Hello', 'world', 'this', 'is', 'a', 'test']\n",
        "sentence = ' '.join(words)\n",
        "print(sentence)"
      ],
      "metadata": {
        "colab": {
          "base_uri": "https://localhost:8080/"
        },
        "id": "ErEbUGUSPvLm",
        "outputId": "c28d2a9d-51c8-4347-ef96-86a195db2851"
      },
      "execution_count": 7,
      "outputs": [
        {
          "output_type": "stream",
          "name": "stdout",
          "text": [
            "Hello world this is a test\n"
          ]
        }
      ]
    },
    {
      "cell_type": "code",
      "source": [
        "a = list(map(str,input().split()))\n",
        "print(a)"
      ],
      "metadata": {
        "colab": {
          "base_uri": "https://localhost:8080/"
        },
        "id": "fBuzGsV8P0LV",
        "outputId": "151236c5-1fdc-4016-957a-47d2dba1cf73"
      },
      "execution_count": 9,
      "outputs": [
        {
          "output_type": "stream",
          "name": "stdout",
          "text": [
            "Geeks for Geeks\n",
            "['Geeks', 'for', 'Geeks']\n"
          ]
        }
      ]
    },
    {
      "cell_type": "code",
      "source": [
        "a = \"Geeks for Geeks\"\n",
        "b = a.split(\" \")\n",
        "print(b)"
      ],
      "metadata": {
        "colab": {
          "base_uri": "https://localhost:8080/"
        },
        "id": "_IPeGS7uQKud",
        "outputId": "2fc9078b-02df-4615-d7ec-07786e751644"
      },
      "execution_count": 10,
      "outputs": [
        {
          "output_type": "stream",
          "name": "stdout",
          "text": [
            "['Geeks', 'for', 'Geeks']\n"
          ]
        }
      ]
    },
    {
      "cell_type": "code",
      "source": [
        "a = ['Geeks', 'for', 'Geeks']\n",
        "b = \"-\".join(a)\n",
        "print(b)"
      ],
      "metadata": {
        "colab": {
          "base_uri": "https://localhost:8080/"
        },
        "id": "yDaTg7jhQF6d",
        "outputId": "36243307-01b2-4683-abd9-29ed3b9cecf8"
      },
      "execution_count": 12,
      "outputs": [
        {
          "output_type": "stream",
          "name": "stdout",
          "text": [
            "Geeks-for-Geeks\n"
          ]
        }
      ]
    },
    {
      "cell_type": "code",
      "source": [
        "squares = [x**2 for x in range(5)]\n",
        "print(squares)"
      ],
      "metadata": {
        "colab": {
          "base_uri": "https://localhost:8080/"
        },
        "id": "NVSO7CH7Uqt0",
        "outputId": "67e6baf9-fa3d-473d-ba78-072114ca0518"
      },
      "execution_count": 13,
      "outputs": [
        {
          "output_type": "stream",
          "name": "stdout",
          "text": [
            "[0, 1, 4, 9, 16]\n"
          ]
        }
      ]
    },
    {
      "cell_type": "code",
      "source": [
        "a = [x**2 for x in range(3,21,3)]\n",
        "print(a)"
      ],
      "metadata": {
        "colab": {
          "base_uri": "https://localhost:8080/"
        },
        "id": "vhib0m8AUrC0",
        "outputId": "1fe773b6-bc4c-4621-8007-081f5ea258aa"
      },
      "execution_count": 14,
      "outputs": [
        {
          "output_type": "stream",
          "name": "stdout",
          "text": [
            "[9, 36, 81, 144, 225, 324]\n"
          ]
        }
      ]
    },
    {
      "cell_type": "code",
      "source": [
        "a = [x**2 for x in range(3,21) if x%3==0]\n",
        "print(a)"
      ],
      "metadata": {
        "colab": {
          "base_uri": "https://localhost:8080/"
        },
        "id": "bHfyrfEnUseh",
        "outputId": "24a8ac7e-b957-4055-eacf-598533f2fe83"
      },
      "execution_count": 15,
      "outputs": [
        {
          "output_type": "stream",
          "name": "stdout",
          "text": [
            "[9, 36, 81, 144, 225, 324]\n"
          ]
        }
      ]
    },
    {
      "cell_type": "code",
      "source": [
        "a = list(map(int,input().split()))\n",
        "b = [x**2 for x in a]\n",
        "print(b)"
      ],
      "metadata": {
        "colab": {
          "base_uri": "https://localhost:8080/"
        },
        "id": "hgtMtj3KUtud",
        "outputId": "37fd556f-00e4-40a9-b783-04194b4d5993"
      },
      "execution_count": 16,
      "outputs": [
        {
          "output_type": "stream",
          "name": "stdout",
          "text": [
            "1 2 3 4 5\n",
            "[1, 4, 9, 16, 25]\n"
          ]
        }
      ]
    },
    {
      "cell_type": "code",
      "source": [
        "a = [\"Seoul\", \"New York\", \"London\", \"Shanghai\", \"Paris\", \"Tokyo\"]\n",
        "b = [x for x in a if x[0]=='S']\n",
        "print(b)"
      ],
      "metadata": {
        "colab": {
          "base_uri": "https://localhost:8080/"
        },
        "id": "q4PLu38SUw7_",
        "outputId": "46662403-792e-4fda-e1a0-2c1186b2fc0c"
      },
      "execution_count": 17,
      "outputs": [
        {
          "output_type": "stream",
          "name": "stdout",
          "text": [
            "['Seoul', 'Shanghai']\n"
          ]
        }
      ]
    },
    {
      "cell_type": "code",
      "source": [
        "fruits = ['apple', 'banana', 'cherry']\n",
        "for index, fruit in enumerate(fruits):\n",
        "  print(index, fruit)"
      ],
      "metadata": {
        "colab": {
          "base_uri": "https://localhost:8080/"
        },
        "id": "ycGCwORSUxH7",
        "outputId": "298024db-f2c2-4922-9574-b5db979e135c"
      },
      "execution_count": 18,
      "outputs": [
        {
          "output_type": "stream",
          "name": "stdout",
          "text": [
            "0 apple\n",
            "1 banana\n",
            "2 cherry\n"
          ]
        }
      ]
    },
    {
      "cell_type": "code",
      "source": [
        "a = ['a','b','c']\n",
        "for x,y in enumerate(a):\n",
        "  print(\"fruit%d name is %s\"%(x,y))"
      ],
      "metadata": {
        "colab": {
          "base_uri": "https://localhost:8080/"
        },
        "id": "y8wFkr8eWoyu",
        "outputId": "358a5326-3d01-4b0f-b012-c28252f8b75f"
      },
      "execution_count": 19,
      "outputs": [
        {
          "output_type": "stream",
          "name": "stdout",
          "text": [
            "fruit0 name is a\n",
            "fruit1 name is b\n",
            "fruit2 name is c\n"
          ]
        }
      ]
    },
    {
      "cell_type": "code",
      "source": [
        "a = ['a','b','c']\n",
        "for x in range(len(a)):\n",
        "  print(\"fruit%d name is %s\"%(x,a[x]))\n",
        "  x+=1"
      ],
      "metadata": {
        "colab": {
          "base_uri": "https://localhost:8080/"
        },
        "id": "IhQNUY14W6DO",
        "outputId": "453ce83e-4f46-4162-c8e4-42a1f3ff95a1"
      },
      "execution_count": 22,
      "outputs": [
        {
          "output_type": "stream",
          "name": "stdout",
          "text": [
            "fruit0 name is a\n",
            "fruit1 name is b\n",
            "fruit2 name is c\n"
          ]
        }
      ]
    },
    {
      "cell_type": "code",
      "source": [
        "names = ['John', 'Jane', 'Doe']\n",
        "ages = [25, 30, 35]\n",
        "for name, age in zip(names, ages):\n",
        "  print(f\"{name} is {age} years old.\")"
      ],
      "metadata": {
        "colab": {
          "base_uri": "https://localhost:8080/"
        },
        "id": "WWKPAPz6ZpMI",
        "outputId": "82c234ab-847d-4bad-e6ba-550abb7c34e3"
      },
      "execution_count": 27,
      "outputs": [
        {
          "output_type": "stream",
          "name": "stdout",
          "text": [
            "John is 25 years old.\n",
            "Jane is 30 years old.\n",
            "Doe is 35 years old.\n"
          ]
        }
      ]
    },
    {
      "cell_type": "code",
      "source": [
        "name = [ \"M\", \"N\", \"S\", \"A\" ]\n",
        "roll_no = [ 4, 1, 3, 2 ]\n",
        "print(\"{\",end=\"\")\n",
        "for a,b in zip(name,roll_no):\n",
        "  print(\"('%s',%d)\"%(a,b),end='')\n",
        "  if a!='A':\n",
        "    print(\",\",end='')\n",
        "print(\"}\",end=\"\")"
      ],
      "metadata": {
        "colab": {
          "base_uri": "https://localhost:8080/"
        },
        "id": "U_tLF7kJaDZv",
        "outputId": "1fa8f311-ed82-4d30-b857-d3fdfcbf74c7"
      },
      "execution_count": 38,
      "outputs": [
        {
          "output_type": "stream",
          "name": "stdout",
          "text": [
            "{('M',4),('N',1),('S',3),('A',2)}"
          ]
        }
      ]
    },
    {
      "cell_type": "code",
      "source": [
        "name = [ \"M\", \"N\", \"S\", \"A\" ]\n",
        "roll_no = [ 4, 1, 3, 2 ]\n",
        "a = dict(zip(name,roll_no))\n",
        "print(a)"
      ],
      "metadata": {
        "colab": {
          "base_uri": "https://localhost:8080/"
        },
        "id": "l19E_B1-dhN_",
        "outputId": "e546a3d7-6a28-4070-f8fe-dc94b178b661"
      },
      "execution_count": 41,
      "outputs": [
        {
          "output_type": "stream",
          "name": "stdout",
          "text": [
            "{'M': 4, 'N': 1, 'S': 3, 'A': 2}\n"
          ]
        }
      ]
    },
    {
      "cell_type": "code",
      "source": [
        "names = ['M', 'R', 'C']\n",
        "ages = [24, 50, 18]\n",
        "i=0\n",
        "for a,b in zip(names,ages):\n",
        "  print(i,a,b)\n",
        "  i+=1"
      ],
      "metadata": {
        "colab": {
          "base_uri": "https://localhost:8080/"
        },
        "id": "cWuo5IFnavkv",
        "outputId": "231f0c3a-6943-42b6-ea79-baf15085f9a8"
      },
      "execution_count": 33,
      "outputs": [
        {
          "output_type": "stream",
          "name": "stdout",
          "text": [
            "0 M 24\n",
            "1 R 50\n",
            "2 C 18\n"
          ]
        }
      ]
    },
    {
      "cell_type": "code",
      "source": [
        "names = ['M', 'R', 'C']\n",
        "ages = [24, 50, 18]\n",
        "\n",
        "for a,b in enumerate(dict(zip(names,ages))):\n",
        "  print(a,b,dict(zip(names,ages))[b])"
      ],
      "metadata": {
        "colab": {
          "base_uri": "https://localhost:8080/"
        },
        "id": "dj7azHnGbhqA",
        "outputId": "06a4e15a-df34-4287-e67f-4dcf96aefbea"
      },
      "execution_count": 35,
      "outputs": [
        {
          "output_type": "stream",
          "name": "stdout",
          "text": [
            "0 M 24\n",
            "1 R 50\n",
            "2 C 18\n"
          ]
        }
      ]
    },
    {
      "cell_type": "code",
      "source": [
        "double = lambda x: x * 2\n",
        "print(double(5))"
      ],
      "metadata": {
        "colab": {
          "base_uri": "https://localhost:8080/"
        },
        "id": "pqHLTRdmeYAQ",
        "outputId": "53eae23a-593f-4005-e9b3-e0a016df5efb"
      },
      "execution_count": 42,
      "outputs": [
        {
          "output_type": "stream",
          "name": "stdout",
          "text": [
            "10\n"
          ]
        }
      ]
    },
    {
      "cell_type": "code",
      "source": [
        "numbers = [1, 2, 3, 4]\n",
        "squared = list(map(lambda x: x*2, numbers))\n",
        "print(squared)"
      ],
      "metadata": {
        "colab": {
          "base_uri": "https://localhost:8080/"
        },
        "id": "C0nloPmMefFX",
        "outputId": "57cc298e-9cb1-4c8f-f4c3-5f8dc63f8ce6"
      },
      "execution_count": 46,
      "outputs": [
        {
          "output_type": "stream",
          "name": "stdout",
          "text": [
            "[2, 4, 6, 8]\n"
          ]
        }
      ]
    }
  ]
}