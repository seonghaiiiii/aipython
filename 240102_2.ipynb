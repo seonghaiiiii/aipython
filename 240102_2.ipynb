{
  "nbformat": 4,
  "nbformat_minor": 0,
  "metadata": {
    "colab": {
      "provenance": [],
      "authorship_tag": "ABX9TyOAiIqJqa6iVjvnMgO8B2dq",
      "include_colab_link": true
    },
    "kernelspec": {
      "name": "python3",
      "display_name": "Python 3"
    },
    "language_info": {
      "name": "python"
    }
  },
  "cells": [
    {
      "cell_type": "markdown",
      "metadata": {
        "id": "view-in-github",
        "colab_type": "text"
      },
      "source": [
        "<a href=\"https://colab.research.google.com/github/seonghaiiiii/aipython/blob/main/240102_2.ipynb\" target=\"_parent\"><img src=\"https://colab.research.google.com/assets/colab-badge.svg\" alt=\"Open In Colab\"/></a>"
      ]
    },
    {
      "cell_type": "code",
      "execution_count": null,
      "metadata": {
        "colab": {
          "base_uri": "https://localhost:8080/"
        },
        "id": "WTEKAj-dBzS3",
        "outputId": "c5e09592-d200-4375-df21-f650ef18f9dc"
      },
      "outputs": [
        {
          "output_type": "stream",
          "name": "stdout",
          "text": [
            "우리가 수업하는 실습실:\n",
            "105\n"
          ]
        }
      ],
      "source": [
        "#하나의 변수를 활용하는 코드입니다.\n",
        "Lab = 105\n",
        "print('우리가 수업하는 실습실:')\n",
        "print(Lab)"
      ]
    },
    {
      "cell_type": "code",
      "source": [
        "#하나의 변수를 활용하는 코드입니다.\n",
        "Lab = 105\n",
        "print('우리가 수업하는 실습실: ', Lab)"
      ],
      "metadata": {
        "colab": {
          "base_uri": "https://localhost:8080/"
        },
        "id": "WTk7EkLQB58z",
        "outputId": "b659a9b5-82e6-48d5-8735-616260897fc2"
      },
      "execution_count": null,
      "outputs": [
        {
          "output_type": "stream",
          "name": "stdout",
          "text": [
            "우리가 수업하는 실습실:  105\n"
          ]
        }
      ]
    },
    {
      "cell_type": "code",
      "source": [
        "# 변수 두 개를 생성하고 값을 할당\n",
        "my_id = 201911108\n",
        "grade = 3\n",
        "# 두 개의 변수에 할당된 값을 출력\n",
        "print('나의 학번: ')\n",
        "print(my_id)\n",
        "print('학년: ')\n",
        "print(grade)"
      ],
      "metadata": {
        "colab": {
          "base_uri": "https://localhost:8080/"
        },
        "id": "FCjvKECkCAKD",
        "outputId": "96f8bbab-4034-4ddd-f6f6-a59fdbd3ad70"
      },
      "execution_count": null,
      "outputs": [
        {
          "output_type": "stream",
          "name": "stdout",
          "text": [
            "나의 학번: \n",
            "201911108\n",
            "학년: \n",
            "3\n"
          ]
        }
      ]
    },
    {
      "cell_type": "code",
      "source": [
        "# 변수에 값을 할당하고 출력하는 예제입니다.\n",
        "# dollars 변수에 값을 할당해봅시다.\n",
        "dollars = 2.75\n",
        "print('I have', dollars, 'in my account.')\n",
        "# dollars 변수에 새로운 값을 할당해봅시다.\n",
        "dollars = 99.95\n",
        "print('But now I have', dollars, 'in my account!')"
      ],
      "metadata": {
        "colab": {
          "base_uri": "https://localhost:8080/"
        },
        "id": "Rrg8Zrc7CAoB",
        "outputId": "2daeb74f-c23b-4715-cd41-2fb4d3d6095d"
      },
      "execution_count": null,
      "outputs": [
        {
          "output_type": "stream",
          "name": "stdout",
          "text": [
            "I have 2.75 in my account.\n",
            "But now I have 99.95 in my account!\n"
          ]
        }
      ]
    },
    {
      "cell_type": "code",
      "source": [
        "# 두 개의 변수를 생성하고 문자열을 할당합니다.\n",
        "department = '수학과'\n",
        "name = '김성한'\n",
        "# 각 변수에 할당된 문자열 값을 출력해보자.\n",
        "print(department, name)"
      ],
      "metadata": {
        "colab": {
          "base_uri": "https://localhost:8080/"
        },
        "id": "iKDlD_7-CHG5",
        "outputId": "de20cf27-6404-4151-8d76-80107ab841cc"
      },
      "execution_count": null,
      "outputs": [
        {
          "output_type": "stream",
          "name": "stdout",
          "text": [
            "수학과 김성한\n"
          ]
        }
      ]
    },
    {
      "cell_type": "code",
      "source": [
        "# 학과명을 입력받습니다.\n",
        "department = input('학과명: ')\n",
        "# 여러분의 이름을 입력받습니다.\n",
        "name = input('성명: ')\n",
        "# 두 변수의 값을 출력합니다.\n",
        "print('안녕하세요', department, name)"
      ],
      "metadata": {
        "colab": {
          "base_uri": "https://localhost:8080/"
        },
        "id": "3zDzDYfDCNeJ",
        "outputId": "f2f1b075-4cfb-4ad9-b610-d870daacb225"
      },
      "execution_count": null,
      "outputs": [
        {
          "output_type": "stream",
          "name": "stdout",
          "text": [
            "학과명: 수학과\n",
            "성명: 김성한\n",
            "안녕하세요 수학과 김성한\n"
          ]
        }
      ]
    },
    {
      "cell_type": "code",
      "source": [
        "# 여러분의 이름, 나이, 통학시간 정보를 입력받습니다.\n",
        "name = input('당신의 이름은 무엇입니까? ')\n",
        "age = int(input('나이는 어떻게 되시나요? '))\n",
        "attending_time = float(input('통학시간은 얼마나 걸립니까? '))\n",
        "\n",
        "# 변수에 입력된 데이터를 출력해봅시다.\n",
        "print('입력 정보는 다음과 같습니다.')\n",
        "print('이름:', name)\n",
        "print('나이:', age)\n",
        "print('통학시간:', attending_time)"
      ],
      "metadata": {
        "colab": {
          "base_uri": "https://localhost:8080/"
        },
        "id": "JrpYHuxMCTNR",
        "outputId": "2f6fc7ff-8c13-4a27-a74d-421305ed74e9"
      },
      "execution_count": null,
      "outputs": [
        {
          "output_type": "stream",
          "name": "stdout",
          "text": [
            "당신의 이름은 무엇입니까? 김성한\n",
            "나이는 어떻게 되시나요? 24\n",
            "통학시간은 얼마나 걸립니까? 10\n",
            "입력 정보는 다음과 같습니다.\n",
            "이름: 김성한\n",
            "나이: 24\n",
            "통학시간: 10.0\n"
          ]
        }
      ]
    },
    {
      "cell_type": "code",
      "source": [
        "# salary 변수에 급여를 할당합니다.\n",
        "salary = 2500.0\n",
        "# bonus 변수에 보너스를 할당합니다.\n",
        "bonus = 1200.0\n",
        "# 급여와 보너스를 더하여 총 급여를 구해봅니다.\n",
        "# 총 급여를 pay 변수에 할당합니다.\n",
        "pay = salary + bonus\n",
        "# 총 급여를 출력합니다.\n",
        "print('총 급여: ', pay)"
      ],
      "metadata": {
        "colab": {
          "base_uri": "https://localhost:8080/"
        },
        "id": "tzcKUkT1CYhx",
        "outputId": "2efd68f1-9867-4a57-a2b7-6b6996b90b9b"
      },
      "execution_count": null,
      "outputs": [
        {
          "output_type": "stream",
          "name": "stdout",
          "text": [
            "총 급여:  3700.0\n"
          ]
        }
      ]
    },
    {
      "cell_type": "code",
      "source": [
        "# 본 예제에서는 원가에 할인율을 적용하여 할인가격을 계산해보자.\n",
        "# original price 변수에 원가를 입력받는다.\n",
        "original_price = float(input(\"제품의 원가를 입력해주세요: \"))\n",
        "# 원가에 할인율 20%를 적용하여 할인가를 계산하여 discount 변수에 할당한다.\n",
        "discount = original_price * 0.2\n",
        "# 원가에 할인가가 적용된 제품 가격을 계산하여 sale_price 변수에 할당한다.\n",
        "sale_price = original_price - discount\n",
        "# 할인가가 적용된 제품 가격을 출력한다.\n",
        "print('할인가격: ', sale_price)"
      ],
      "metadata": {
        "colab": {
          "base_uri": "https://localhost:8080/"
        },
        "id": "9gff-T1oCi0S",
        "outputId": "cbb3f20e-70f4-4483-b062-e918fd115063"
      },
      "execution_count": null,
      "outputs": [
        {
          "output_type": "stream",
          "name": "stdout",
          "text": [
            "제품의 원가를 입력해주세요: 500\n",
            "할인가격:  400.0\n"
          ]
        }
      ]
    },
    {
      "cell_type": "code",
      "source": [
        "# 세 과목의 평가 점수를 입력받고\n",
        "# test1, test2, test3 변수에 각각 할당한다.\n",
        "test1 = float(input('첫 번째 과목 점수를 입력해주세요: '))\n",
        "test2 = float(input('두 번째 과목 점수를 입력해주세요: '))\n",
        "test3 = float(input('세 번째 과목 점수를 입력해주세요: '))\n",
        "# 각 과목의 점수 평균을 계산하고\n",
        "# 그 결과 값을 average 변수에 할당한다.\n",
        "average = (test1 + test2 + test3) / 3.0\n",
        "# 점수 평균을 출력한다.\n",
        "print('3 과목의 평균 점수: ', average)"
      ],
      "metadata": {
        "colab": {
          "base_uri": "https://localhost:8080/"
        },
        "id": "3U6xM3l9CsHS",
        "outputId": "c537d358-53dd-42c9-cac5-fd92fc050efb"
      },
      "execution_count": null,
      "outputs": [
        {
          "output_type": "stream",
          "name": "stdout",
          "text": [
            "첫 번째 과목 점수를 입력해주세요: 100\n",
            "두 번째 과목 점수를 입력해주세요: 95\n",
            "세 번째 과목 점수를 입력해주세요: 90\n",
            "3 과목의 평균 점수:  95.0\n"
          ]
        }
      ]
    },
    {
      "cell_type": "code",
      "source": [
        "# 본 예제는 초를 입력받아 시, 분, 초로 변환하는 프로그램이다.\n",
        "# 초 값을 입력받아 total_seconds 변수에 할당한다.\n",
        "total_seconds = float(input('시간 값을 초 단위로 입력해주세요: '))\n",
        "# 시간을 계산하여 hours 변수에 할당한다.\n",
        "hours = total_seconds // 3600\n",
        "# 분을 계산하여 minutes 변수에 할당한다.\n",
        "minutes = (total_seconds // 60) % 60\n",
        "# 초의 나머지 값을 seconds 변수에 할당한다.\n",
        "seconds = total_seconds % 60\n",
        "# 시, 분, 초 값을 출력한다. print('시 분 초는 다음과 같습니다.')\n",
        "print('시: ', hours)\n",
        "print('분: ', minutes)\n",
        "print('초: ', seconds)"
      ],
      "metadata": {
        "colab": {
          "base_uri": "https://localhost:8080/"
        },
        "id": "rFNQYNZaCusS",
        "outputId": "7ccbeb85-b418-4950-c563-710d9efe27e7"
      },
      "execution_count": null,
      "outputs": [
        {
          "output_type": "stream",
          "name": "stdout",
          "text": [
            "시간 값을 초 단위로 입력해주세요: 5639\n",
            "시:  1.0\n",
            "분:  33.0\n",
            "초:  59.0\n"
          ]
        }
      ]
    },
    {
      "cell_type": "code",
      "source": [
        "# 본 예제는 목표액을 특정 이율로 얻고자 할 경우 매년 적립해야할 금액을 계산해보자.\n",
        "# 목표액을 입력받고 future_value 변수에 할당한다.\n",
        "future_value = float(input('목표 금액을 입력해주세요: '))\n",
        "# 연간 이율을 입력받고 rate 변수에 할당한다.\n",
        "rate = float(input('연간 이율을 입력해주세요: '))\n",
        "# 적립 기간을 입력받고 years 변수에 할당한다.\n",
        "years = int(input('저축 기간을 연 단위로 입력해주세요: '))\n",
        "# 특정 기간동안 적립해야할 금액을 계산하여 present_value 변수에 할당한다.\n",
        "present_value = future_value / (1.0 + rate)**years\n",
        "# 적립 금액을 출력한다.\n",
        "print('적립 금액: ', present_value)"
      ],
      "metadata": {
        "colab": {
          "base_uri": "https://localhost:8080/"
        },
        "id": "MYQSYe8IC9mY",
        "outputId": "f01f94b6-7c4f-443b-a2b3-2a0716a6b04e"
      },
      "execution_count": null,
      "outputs": [
        {
          "output_type": "stream",
          "name": "stdout",
          "text": [
            "목표 금액을 입력해주세요: 10000\n",
            "연간 이율을 입력해주세요: 0.05\n",
            "저축 기간을 연 단위로 입력해주세요: 10\n",
            "적립 금액:  6139.132535407592\n"
          ]
        }
      ]
    },
    {
      "cell_type": "code",
      "source": [
        "# print() 함수에서 쉼표로 데이터를 구분하여 출력할 때\n",
        "# 자동적으로 분리되는 빈 칸을 sep 옵션으로 제어할 수 있다.\n",
        "print('a','b','c')\n",
        "print('a','b','c',sep='')\n",
        "print('a','b','c',sep='***')"
      ],
      "metadata": {
        "colab": {
          "base_uri": "https://localhost:8080/"
        },
        "id": "dlNFWbEQDA5m",
        "outputId": "9eb04078-7a75-4be2-979d-14c25cab4a2c"
      },
      "execution_count": null,
      "outputs": [
        {
          "output_type": "stream",
          "name": "stdout",
          "text": [
            "a b c\n",
            "abc\n",
            "a***b***c\n"
          ]
        }
      ]
    },
    {
      "cell_type": "code",
      "source": [
        "# print() 함수를 여러 번 사용할 경우, 각 print() 함수가 수행된 후에는\n",
        "# 자동적으로 줄바꿈이 일어난다. 이는 커서가 자동으로 내려가기 때문인데\n",
        "# 커서를 줄바꿈시키지 않고 바로 옆에 놓고 같은 줄에 여러 print() 함수의 내용을\n",
        "# 나타내고자 할 때 end 옵션을 사용할 수 있다.\n",
        "print('a')\n",
        "print('b')\n",
        "print('c', end='')\n",
        "print('d', end='')\n",
        "print('e', end='***')\n",
        "print('f')"
      ],
      "metadata": {
        "colab": {
          "base_uri": "https://localhost:8080/"
        },
        "id": "xTYZJeDrDLim",
        "outputId": "eebf2403-e6ba-4ed1-e637-87aebba9b728"
      },
      "execution_count": null,
      "outputs": [
        {
          "output_type": "stream",
          "name": "stdout",
          "text": [
            "a\n",
            "b\n",
            "cde***f\n"
          ]
        }
      ]
    },
    {
      "cell_type": "code",
      "source": [
        "# 본 예제는 부동 소수점이 출력되는 연산을 수행해본다.\n",
        "# 소수점 길이를 제어하지 않고 결과 값을 출력한다.\n",
        "amount_due = 5000.0\n",
        "monthly_payment = amount_due / 12.0\n",
        "print('월급여: ', monthly_payment)"
      ],
      "metadata": {
        "colab": {
          "base_uri": "https://localhost:8080/"
        },
        "id": "3UwEomTkDNn1",
        "outputId": "e8b7921d-f057-41f2-836c-fa93983b7d12"
      },
      "execution_count": null,
      "outputs": [
        {
          "output_type": "stream",
          "name": "stdout",
          "text": [
            "월급여:  416.6666666666667\n"
          ]
        }
      ]
    },
    {
      "cell_type": "code",
      "source": [
        "# 본 예제에서는 소수점 자리를 제어하여 결과를 출력해보자.\n",
        "amount_due = 5000.0\n",
        "monthly_payment = amount_due / 12\n",
        "print('월급여: ', format(monthly_payment, '.2f'))"
      ],
      "metadata": {
        "colab": {
          "base_uri": "https://localhost:8080/"
        },
        "id": "CmTwbiZaDSn1",
        "outputId": "6ad73e5b-3569-4eca-a18a-27f047fcf182"
      },
      "execution_count": null,
      "outputs": [
        {
          "output_type": "stream",
          "name": "stdout",
          "text": [
            "월급여:  416.67\n"
          ]
        }
      ]
    },
    {
      "cell_type": "code",
      "source": [
        "# 본 예제도 소수점 자리를 제어하여 결과를 출력해보자.\n",
        "monthly_pay = 5000.0\n",
        "annual_pay = monthly_pay * 12\n",
        "print('연봉 : $', format(annual_pay, ',.2f'), sep='')"
      ],
      "metadata": {
        "colab": {
          "base_uri": "https://localhost:8080/"
        },
        "id": "hhiDen9QDXzt",
        "outputId": "d68805c0-0618-4929-83c4-05d809af6658"
      },
      "execution_count": null,
      "outputs": [
        {
          "output_type": "stream",
          "name": "stdout",
          "text": [
            "연봉 : $60,000.00\n"
          ]
        }
      ]
    },
    {
      "cell_type": "code",
      "source": [
        "# 본 예제는 부동 소수점을 특정 너비에 맞추어 출력하는 방법에 대해 알아보자.\n",
        "# 아래와 같이 각 변수에 부동 소수점이 포함된 값을 할당한다.\n",
        "num1 = 127.899\n",
        "num2 = 3465.148\n",
        "num3 = 3.776\n",
        "num4 = 264.821\n",
        "num5 = 88.081\n",
        "num6 = 799.999\n",
        "# 7칸에 맞추어 부동 소수점이 포함된 변수 값을 출력한다.\n",
        "print(format(num1, '7.2f'))\n",
        "print(format(num2, '7.2f'))\n",
        "print(format(num3, '7.2f'))\n",
        "print(format(num4, '7.2f'))\n",
        "print(format(num5, '7.2f'))\n",
        "print(format(num6, '7.2f'))"
      ],
      "metadata": {
        "colab": {
          "base_uri": "https://localhost:8080/"
        },
        "id": "o33eoI8-DZIR",
        "outputId": "d4029ddd-7775-4cc1-d92c-e5eb3c9f9e0b"
      },
      "execution_count": null,
      "outputs": [
        {
          "output_type": "stream",
          "name": "stdout",
          "text": [
            " 127.90\n",
            "3465.15\n",
            "   3.78\n",
            " 264.82\n",
            "  88.08\n",
            " 800.00\n"
          ]
        }
      ]
    }
  ]
}